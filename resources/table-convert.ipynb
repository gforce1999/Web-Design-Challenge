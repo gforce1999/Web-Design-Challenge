{
 "metadata": {
  "language_info": {
   "codemirror_mode": {
    "name": "ipython",
    "version": 3
   },
   "file_extension": ".py",
   "mimetype": "text/x-python",
   "name": "python",
   "nbconvert_exporter": "python",
   "pygments_lexer": "ipython3",
   "version": "3.6.10"
  },
  "orig_nbformat": 2,
  "kernelspec": {
   "name": "python3610jvsc74a57bd05cb777811c63abf4262d56c307145788364f278b0ac21b7cd6e5431e7a07e7f3",
   "display_name": "Python 3.6.10 64-bit ('PythonData': conda)"
  }
 },
 "nbformat": 4,
 "nbformat_minor": 2,
 "cells": [
  {
   "cell_type": "code",
   "execution_count": 6,
   "metadata": {},
   "outputs": [],
   "source": [
    "import pandas as pd\n",
    "\n"
   ]
  },
  {
   "cell_type": "code",
   "execution_count": 8,
   "metadata": {},
   "outputs": [],
   "source": [
    "new_file = pd.read_csv(\"cities.csv\")\n"
   ]
  },
  {
   "cell_type": "code",
   "execution_count": 9,
   "metadata": {},
   "outputs": [
    {
     "output_type": "execute_result",
     "data": {
      "text/plain": [
       "   City_ID               City  Cloudiness Country        Date  Humidity  \\\n",
       "0        0          ostrovnoy           2      RU  1558378754        72   \n",
       "1        1          mahebourg          75      MU  1558378503        74   \n",
       "2        2            qaanaaq          25      GL  1558378755        73   \n",
       "3        3             zhuhai           0      CN  1558378755        39   \n",
       "4        4          cape town          20      ZA  1558378755        76   \n",
       "5        5             atuona          78      PF  1558378755        76   \n",
       "6        6           flinders           0      AU  1558378755        62   \n",
       "7        7              opuwo           0     NaN  1558378523        23   \n",
       "8        8              tiksi          95      RU  1558378756        88   \n",
       "9        9  pushkinskiye gory           6      RU  1558378756        70   \n",
       "\n",
       "     Lat     Lng  Max Temp  Wind Speed  \n",
       "0  68.05   39.51     37.50        7.16  \n",
       "1 -20.41   57.70     78.80       11.41  \n",
       "2  77.48  -69.36     22.20        2.37  \n",
       "3  40.71  112.04     44.60        4.47  \n",
       "4 -33.93   18.42     55.99        8.05  \n",
       "5  -9.80 -139.03     81.96       16.49  \n",
       "6 -34.58  150.85     60.01       11.41  \n",
       "7 -18.06   13.84     72.06        5.44  \n",
       "8  71.64  128.87     14.10       15.70  \n",
       "9  57.02   28.91     65.04        6.93  "
      ],
      "text/html": "<div>\n<style scoped>\n    .dataframe tbody tr th:only-of-type {\n        vertical-align: middle;\n    }\n\n    .dataframe tbody tr th {\n        vertical-align: top;\n    }\n\n    .dataframe thead th {\n        text-align: right;\n    }\n</style>\n<table border=\"1\" class=\"dataframe\">\n  <thead>\n    <tr style=\"text-align: right;\">\n      <th></th>\n      <th>City_ID</th>\n      <th>City</th>\n      <th>Cloudiness</th>\n      <th>Country</th>\n      <th>Date</th>\n      <th>Humidity</th>\n      <th>Lat</th>\n      <th>Lng</th>\n      <th>Max Temp</th>\n      <th>Wind Speed</th>\n    </tr>\n  </thead>\n  <tbody>\n    <tr>\n      <th>0</th>\n      <td>0</td>\n      <td>ostrovnoy</td>\n      <td>2</td>\n      <td>RU</td>\n      <td>1558378754</td>\n      <td>72</td>\n      <td>68.05</td>\n      <td>39.51</td>\n      <td>37.50</td>\n      <td>7.16</td>\n    </tr>\n    <tr>\n      <th>1</th>\n      <td>1</td>\n      <td>mahebourg</td>\n      <td>75</td>\n      <td>MU</td>\n      <td>1558378503</td>\n      <td>74</td>\n      <td>-20.41</td>\n      <td>57.70</td>\n      <td>78.80</td>\n      <td>11.41</td>\n    </tr>\n    <tr>\n      <th>2</th>\n      <td>2</td>\n      <td>qaanaaq</td>\n      <td>25</td>\n      <td>GL</td>\n      <td>1558378755</td>\n      <td>73</td>\n      <td>77.48</td>\n      <td>-69.36</td>\n      <td>22.20</td>\n      <td>2.37</td>\n    </tr>\n    <tr>\n      <th>3</th>\n      <td>3</td>\n      <td>zhuhai</td>\n      <td>0</td>\n      <td>CN</td>\n      <td>1558378755</td>\n      <td>39</td>\n      <td>40.71</td>\n      <td>112.04</td>\n      <td>44.60</td>\n      <td>4.47</td>\n    </tr>\n    <tr>\n      <th>4</th>\n      <td>4</td>\n      <td>cape town</td>\n      <td>20</td>\n      <td>ZA</td>\n      <td>1558378755</td>\n      <td>76</td>\n      <td>-33.93</td>\n      <td>18.42</td>\n      <td>55.99</td>\n      <td>8.05</td>\n    </tr>\n    <tr>\n      <th>5</th>\n      <td>5</td>\n      <td>atuona</td>\n      <td>78</td>\n      <td>PF</td>\n      <td>1558378755</td>\n      <td>76</td>\n      <td>-9.80</td>\n      <td>-139.03</td>\n      <td>81.96</td>\n      <td>16.49</td>\n    </tr>\n    <tr>\n      <th>6</th>\n      <td>6</td>\n      <td>flinders</td>\n      <td>0</td>\n      <td>AU</td>\n      <td>1558378755</td>\n      <td>62</td>\n      <td>-34.58</td>\n      <td>150.85</td>\n      <td>60.01</td>\n      <td>11.41</td>\n    </tr>\n    <tr>\n      <th>7</th>\n      <td>7</td>\n      <td>opuwo</td>\n      <td>0</td>\n      <td>NaN</td>\n      <td>1558378523</td>\n      <td>23</td>\n      <td>-18.06</td>\n      <td>13.84</td>\n      <td>72.06</td>\n      <td>5.44</td>\n    </tr>\n    <tr>\n      <th>8</th>\n      <td>8</td>\n      <td>tiksi</td>\n      <td>95</td>\n      <td>RU</td>\n      <td>1558378756</td>\n      <td>88</td>\n      <td>71.64</td>\n      <td>128.87</td>\n      <td>14.10</td>\n      <td>15.70</td>\n    </tr>\n    <tr>\n      <th>9</th>\n      <td>9</td>\n      <td>pushkinskiye gory</td>\n      <td>6</td>\n      <td>RU</td>\n      <td>1558378756</td>\n      <td>70</td>\n      <td>57.02</td>\n      <td>28.91</td>\n      <td>65.04</td>\n      <td>6.93</td>\n    </tr>\n  </tbody>\n</table>\n</div>"
     },
     "metadata": {},
     "execution_count": 9
    }
   ],
   "source": [
    "new_file.head(10)\n"
   ]
  },
  {
   "cell_type": "code",
   "execution_count": 11,
   "metadata": {},
   "outputs": [],
   "source": [
    "new_file.to_html('C:/Users/rod/homework/Web-Design-Challenge/resources/my_html.html')"
   ]
  },
  {
   "cell_type": "code",
   "execution_count": null,
   "metadata": {},
   "outputs": [],
   "source": []
  }
 ]
}